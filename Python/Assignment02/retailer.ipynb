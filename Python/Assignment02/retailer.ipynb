{
 "cells": [
  {
   "cell_type": "code",
   "execution_count": null,
   "id": "0f17a657",
   "metadata": {},
   "outputs": [],
   "source": [
    "#2.3.1.\n",
    "#Initialize retailer class\n",
    "class retailer :\n",
    "    def __init__(self,retailer_id,retailer_name,carretailer_address,carretailer_business_hours,carretailer_stock):\n",
    "        self.retailer_id = retailer_id\n",
    "        self.retailer_name = retailer_name\n",
    "        self.carretailer_address = carretailer_address\n",
    "        self.carretailer_business_hours = carretailer_business_hours\n",
    "        self.carretailer_stock = carretailer_stock"
   ]
  },
  {
   "cell_type": "code",
   "execution_count": 2,
   "id": "cbaa5393",
   "metadata": {},
   "outputs": [],
   "source": [
    "#2.3.1.\n",
    "#get retailer details\n",
    "\n",
    "def __str__(self):\n",
    "    ret_det= \"ID\" +self.retailer_id+ \"name=\" +self.retailer_name+ \"address=\" +self.carretailer_address+ \"business hours =\" +self.carretailer_business_hours+ \"stock=\" +self.carretailer_stock\n",
    "    return ret_det"
   ]
  },
  {
   "cell_type": "code",
   "execution_count": null,
   "id": "a3ff76e3",
   "metadata": {},
   "outputs": [],
   "source": []
  }
 ],
 "metadata": {
  "kernelspec": {
   "display_name": "Python 3 (ipykernel)",
   "language": "python",
   "name": "python3"
  },
  "language_info": {
   "codemirror_mode": {
    "name": "ipython",
    "version": 3
   },
   "file_extension": ".py",
   "mimetype": "text/x-python",
   "name": "python",
   "nbconvert_exporter": "python",
   "pygments_lexer": "ipython3",
   "version": "3.10.9"
  }
 },
 "nbformat": 4,
 "nbformat_minor": 5
}
