{
 "cells": [
  {
   "cell_type": "code",
   "execution_count": 3,
   "id": "3c3928ca",
   "metadata": {},
   "outputs": [],
   "source": [
    "# 2.1.1.\n",
    "#define a car class with all the attributes listed in the specifications and assign random default values.\n",
    "\n",
    "class car:\n",
    "#Initialize class using __init__\n",
    "\n",
    "    def __init__(self,car_no = \"MB123456\",car_name = \"Suzuki\",car_capacity = 5,car_horsepower = 150,car_weight = 1075,car_type = \"FWD\",car_prob_lic = \"true\"):\n",
    "        self.name = name\n",
    "        self.car_no = car_no\n",
    "        self.car_name = car_name\n",
    "        self.car_capacity = car_capacity\n",
    "        self.car_horsepower = car_horsepower\n",
    "        self.car_weight = car_weight\n",
    "        self.car_type = car_type\n",
    "        self.car_prob_lic = car_prob_lic\n",
    "        \n"
   ]
  },
  {
   "cell_type": "code",
   "execution_count": null,
   "id": "3b55e093",
   "metadata": {},
   "outputs": [],
   "source": [
    "#2.1.1. Testing Cell\n",
    "# 2.1.1.\n",
    "#define a car class with all the attributes listed in the specifications and assign random default values.\n",
    "\n",
    "# class car:\n",
    "# #Initialize class using __init__\n",
    "\n",
    "#     def __init__(self,car_no = \"MB123456\",car_name = \"Suzuki\",car_capacity = 5,car_horsepower = 150,car_weight = 1075,car_type = \"FWD\",car_prob_lic = \"true\"):\n",
    "#         self.name = name\n",
    "#         self.car_no = car_no\n",
    "#         self.car_name = car_name\n",
    "#         self.car_capacity = car_capacity\n",
    "#         self.car_horsepower = car_horsepower\n",
    "#         self.car_weight = car_weight\n",
    "#         self.car_type = car_type\n",
    "#         self.car_prob_lic = car_prob_lic"
   ]
  },
  {
   "cell_type": "code",
   "execution_count": 4,
   "id": "ac71c933",
   "metadata": {},
   "outputs": [],
   "source": [
    "#2.1.2.\n",
    "#Return the car details         \n",
    "def __str__(self):\n",
    "        car_details = \"code:\"+ self.car_code + \"name:\" + self.car_name +\"capacity:\" +self.car_capacity+ \"horsepower:\" +self.car_horsepower + \"weight\" +self.car_weight+ \"type\"+self.car_type\n",
    "        return car_details"
   ]
  },
  {
   "cell_type": "code",
   "execution_count": null,
   "id": "b9b53672",
   "metadata": {},
   "outputs": [],
   "source": [
    "# #2.1.2. Testing Cell\n",
    "# #Return the car details         \n",
    "# def __str__(self):\n",
    "#         car_details = \"code:\"+ self.car_code + \"name:\" + self.car_name +\"capacity:\" +self.car_capacity+ \"horsepower:\" +self.car_horsepower + \"weight\" +self.car_weight+ \"type\"+self.car_type\n",
    "#         return car_details\n"
   ]
  },
  {
   "cell_type": "code",
   "execution_count": 7,
   "id": "c8ffa8d7",
   "metadata": {},
   "outputs": [],
   "source": [
    "#2.1.3.\n",
    "#Find if probationary licence required\n",
    "\n",
    "def probationary_licence_prohibited_vehicle(self,other):\n",
    "    weight = self.car_weight()\n",
    "    power = self.car_horsepower()\n",
    "    x =  float(weight)\n",
    "    y = float(power)\n",
    "    z = (y/x)*1000\n",
    "    if z > 130:\n",
    "        return true\n",
    "    else:\n",
    "        return false\n",
    "    "
   ]
  },
  {
   "cell_type": "code",
   "execution_count": 5,
   "id": "f4d4626c",
   "metadata": {},
   "outputs": [
    {
     "name": "stdout",
     "output_type": "stream",
     "text": [
      "Creating two instances\n"
     ]
    },
    {
     "ename": "NameError",
     "evalue": "name 'name' is not defined",
     "output_type": "error",
     "traceback": [
      "\u001b[0;31m---------------------------------------------------------------------------\u001b[0m",
      "\u001b[0;31mNameError\u001b[0m                                 Traceback (most recent call last)",
      "Cell \u001b[0;32mIn[5], line 17\u001b[0m\n\u001b[1;32m     15\u001b[0m \u001b[38;5;28mprint\u001b[39m(\u001b[38;5;124m\"\u001b[39m\u001b[38;5;124mCreating two instances\u001b[39m\u001b[38;5;124m\"\u001b[39m)\n\u001b[1;32m     16\u001b[0m \u001b[38;5;66;03m# creating two instances\u001b[39;00m\n\u001b[0;32m---> 17\u001b[0m c1 \u001b[38;5;241m=\u001b[39m \u001b[43mcar\u001b[49m\u001b[43m(\u001b[49m\u001b[38;5;124;43m'\u001b[39;49m\u001b[38;5;124;43mMB123456\u001b[39;49m\u001b[38;5;124;43m'\u001b[39;49m\u001b[43m,\u001b[49m\u001b[38;5;124;43m'\u001b[39;49m\u001b[38;5;124;43mSuzuki\u001b[39;49m\u001b[38;5;124;43m'\u001b[39;49m\u001b[43m,\u001b[49m\u001b[38;5;241;43m5\u001b[39;49m\u001b[43m,\u001b[49m\u001b[38;5;241;43m150\u001b[39;49m\u001b[43m,\u001b[49m\u001b[38;5;241;43m1075\u001b[39;49m\u001b[43m,\u001b[49m\u001b[38;5;124;43m\"\u001b[39;49m\u001b[38;5;124;43mFWD\u001b[39;49m\u001b[38;5;124;43m\"\u001b[39;49m\u001b[43m,\u001b[49m\u001b[38;5;124;43m\"\u001b[39;49m\u001b[38;5;124;43mtrue\u001b[39;49m\u001b[38;5;124;43m\"\u001b[39;49m\u001b[43m)\u001b[49m\n\u001b[1;32m     18\u001b[0m c2 \u001b[38;5;241m=\u001b[39m Contact(\u001b[38;5;124m'\u001b[39m\u001b[38;5;124mMB123457\u001b[39m\u001b[38;5;124m'\u001b[39m,\u001b[38;5;124m'\u001b[39m\u001b[38;5;124mToyota\u001b[39m\u001b[38;5;124m'\u001b[39m,\u001b[38;5;241m5\u001b[39m,\u001b[38;5;241m150\u001b[39m,\u001b[38;5;241m1075\u001b[39m,\u001b[38;5;124m\"\u001b[39m\u001b[38;5;124mFWD\u001b[39m\u001b[38;5;124m\"\u001b[39m,\u001b[38;5;124m\"\u001b[39m\u001b[38;5;124mtrue\u001b[39m\u001b[38;5;124m\"\u001b[39m)\n\u001b[1;32m     20\u001b[0m \u001b[38;5;28mprint\u001b[39m(\u001b[38;5;124m\"\u001b[39m\u001b[38;5;130;01m\\n\u001b[39;00m\u001b[38;5;124mtesting found_matching_car\u001b[39m\u001b[38;5;130;01m\\n\u001b[39;00m\u001b[38;5;124m\"\u001b[39m)\n",
      "Cell \u001b[0;32mIn[3], line 8\u001b[0m, in \u001b[0;36mcar.__init__\u001b[0;34m(self, car_no, car_name, car_capacity, car_horsepower, car_weight, car_type, car_prob_lic)\u001b[0m\n\u001b[1;32m      7\u001b[0m \u001b[38;5;28;01mdef\u001b[39;00m \u001b[38;5;21m__init__\u001b[39m(\u001b[38;5;28mself\u001b[39m,car_no \u001b[38;5;241m=\u001b[39m \u001b[38;5;124m\"\u001b[39m\u001b[38;5;124mMB123456\u001b[39m\u001b[38;5;124m\"\u001b[39m,car_name \u001b[38;5;241m=\u001b[39m \u001b[38;5;124m\"\u001b[39m\u001b[38;5;124mSuzuki\u001b[39m\u001b[38;5;124m\"\u001b[39m,car_capacity \u001b[38;5;241m=\u001b[39m \u001b[38;5;241m5\u001b[39m,car_horsepower \u001b[38;5;241m=\u001b[39m \u001b[38;5;241m150\u001b[39m,car_weight \u001b[38;5;241m=\u001b[39m \u001b[38;5;241m1075\u001b[39m,car_type \u001b[38;5;241m=\u001b[39m \u001b[38;5;124m\"\u001b[39m\u001b[38;5;124mFWD\u001b[39m\u001b[38;5;124m\"\u001b[39m,car_prob_lic \u001b[38;5;241m=\u001b[39m \u001b[38;5;124m\"\u001b[39m\u001b[38;5;124mtrue\u001b[39m\u001b[38;5;124m\"\u001b[39m):\n\u001b[0;32m----> 8\u001b[0m     \u001b[38;5;28mself\u001b[39m\u001b[38;5;241m.\u001b[39mname \u001b[38;5;241m=\u001b[39m \u001b[43mname\u001b[49m\n\u001b[1;32m      9\u001b[0m     \u001b[38;5;28mself\u001b[39m\u001b[38;5;241m.\u001b[39mcar_no \u001b[38;5;241m=\u001b[39m car_no\n\u001b[1;32m     10\u001b[0m     \u001b[38;5;28mself\u001b[39m\u001b[38;5;241m.\u001b[39mcar_name \u001b[38;5;241m=\u001b[39m car_name\n",
      "\u001b[0;31mNameError\u001b[0m: name 'name' is not defined"
     ]
    }
   ],
   "source": [
    "# 2.1.4.\n",
    "#Find if there is a car matching the car code\n",
    "\n",
    "def found_matching_car(self, other):\n",
    "        # lower-casing name and organisation for both object\n",
    "        car_no_self = self.car_no.lower()\n",
    "        carno_other = carno_other.name.lower()\n",
    "        \n",
    "        # comparing the variables\n",
    "        if car_no_self == carno_other:\n",
    "            return True\n",
    "        else:\n",
    "            return False\n",
    "#Test\n",
    "print(\"Creating two instances\")\n",
    "# creating two instances\n",
    "c1 = car('MB123456','Suzuki',5,150,1075,\"FWD\",\"true\")\n",
    "c2 = Contact('MB123457','Toyota',5,150,1075,\"FWD\",\"true\")\n",
    "\n",
    "print(\"\\ntesting found_matching_car\\n\")\n",
    "print('c1 == c2?',c1 == c2)"
   ]
  },
  {
   "cell_type": "code",
   "execution_count": null,
   "id": "e4fcde0f",
   "metadata": {},
   "outputs": [],
   "source": []
  }
 ],
 "metadata": {
  "kernelspec": {
   "display_name": "Python 3 (ipykernel)",
   "language": "python",
   "name": "python3"
  },
  "language_info": {
   "codemirror_mode": {
    "name": "ipython",
    "version": 3
   },
   "file_extension": ".py",
   "mimetype": "text/x-python",
   "name": "python",
   "nbconvert_exporter": "python",
   "pygments_lexer": "ipython3",
   "version": "3.10.9"
  }
 },
 "nbformat": 4,
 "nbformat_minor": 5
}
